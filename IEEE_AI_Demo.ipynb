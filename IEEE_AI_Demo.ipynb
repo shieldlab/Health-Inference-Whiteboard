{
  "nbformat": 4,
  "nbformat_minor": 0,
  "metadata": {
    "colab": {
      "provenance": []
    },
    "kernelspec": {
      "name": "python3",
      "display_name": "Python 3"
    },
    "language_info": {
      "name": "python"
    }
  },
  "cells": [
    {
      "cell_type": "code",
      "source": [
        "from google.colab import drive\n",
        "drive.mount('/content/drive')"
      ],
      "metadata": {
        "colab": {
          "base_uri": "https://localhost:8080/"
        },
        "id": "FjcZowFyGImz",
        "outputId": "0c71401a-1edb-47cc-82db-dd9750e601bf"
      },
      "execution_count": 14,
      "outputs": [
        {
          "output_type": "stream",
          "name": "stdout",
          "text": [
            "Drive already mounted at /content/drive; to attempt to forcibly remount, call drive.mount(\"/content/drive\", force_remount=True).\n"
          ]
        }
      ]
    },
    {
      "cell_type": "code",
      "execution_count": 15,
      "metadata": {
        "id": "3mz9i5emGAZb"
      },
      "outputs": [],
      "source": [
        "import os\n",
        "import cv2\n",
        "import random\n",
        "import numpy as np\n",
        "import pandas as pd\n",
        "import matplotlib.pyplot as plt\n",
        "\n",
        "import tensorflow as tf\n",
        "from tensorflow.keras.models import *\n",
        "from tensorflow.keras.layers import *\n",
        "import matplotlib.pyplot as plt\n",
        "import seaborn as sns\n",
        "import pandas as pd\n",
        "\n",
        "import numpy as np\n",
        "\n",
        "from tensorflow.keras.applications.mobilenet_v3 import preprocess_input\n",
        "from tensorflow.keras.preprocessing.image import load_img, img_to_array"
      ]
    },
    {
      "cell_type": "markdown",
      "source": [
        "# Upload the images"
      ],
      "metadata": {
        "id": "so9R4xtvhh2I"
      }
    },
    {
      "cell_type": "code",
      "source": [
        "import os\n",
        "\n",
        "def list_images(folder_path):\n",
        "    image_list = []\n",
        "    for root, dirs, files in os.walk(folder_path):\n",
        "        for file in files:\n",
        "            if file.endswith((\".jpg\", \".jpeg\", \".png\", \".gif\")):\n",
        "                file_path = os.path.join(root, file)\n",
        "                image_list.append(file_path)\n",
        "    return image_list\n",
        "\n",
        "# Specify the folder path\n",
        "folder_path = '/content/Demo/images'\n",
        "\n",
        "# Call the function\n",
        "images = list_images(folder_path)\n"
      ],
      "metadata": {
        "id": "D4iWYOg7H5Pz"
      },
      "execution_count": 46,
      "outputs": []
    },
    {
      "cell_type": "code",
      "source": [
        "recognition_model = load_model(\"/content/Demo/Models/recognition-model.h5\")\n",
        "inference_model = load_model(\"/content/Demo/Models/inference-model.h5\")"
      ],
      "metadata": {
        "id": "hDVdrJqsGGpO"
      },
      "execution_count": 19,
      "outputs": []
    },
    {
      "cell_type": "markdown",
      "source": [
        "#Recognition of Shape\n",
        "It is original task of the cloud-based system from the hand drawing data of users. The users are aware of this task."
      ],
      "metadata": {
        "id": "hhZVaG_IIVz0"
      }
    },
    {
      "cell_type": "code",
      "source": [
        "# Print the list of images and their paths\n",
        "predictions = []\n",
        "for img_path in images:\n",
        "    image = load_img(img_path, target_size=(256, 256))\n",
        "    image = img_to_array(image)\n",
        "    image = preprocess_input(image)\n",
        "    input_data = image.reshape((1,) + image.shape)\n",
        "\n",
        "    # Make predictions\n",
        "    pred = recognition_model.predict(input_data)\n",
        "\n",
        "    if pred.item()<.5:\n",
        "        pred = \"Spiral\"\n",
        "    else:\n",
        "        pred = \"Wave\"\n",
        "\n",
        "    predictions.append([os.path.basename(img_path), pred])\n"
      ],
      "metadata": {
        "colab": {
          "base_uri": "https://localhost:8080/"
        },
        "id": "A03qvckDIkMb",
        "outputId": "2e996399-04ad-4065-9115-3e17a9375d2c"
      },
      "execution_count": 47,
      "outputs": [
        {
          "output_type": "stream",
          "name": "stdout",
          "text": [
            "1/1 [==============================] - 0s 80ms/step\n",
            "1/1 [==============================] - 0s 78ms/step\n",
            "1/1 [==============================] - 0s 82ms/step\n",
            "1/1 [==============================] - 0s 86ms/step\n",
            "1/1 [==============================] - 0s 70ms/step\n",
            "1/1 [==============================] - 0s 78ms/step\n",
            "1/1 [==============================] - 0s 74ms/step\n",
            "1/1 [==============================] - 0s 85ms/step\n",
            "1/1 [==============================] - 0s 77ms/step\n",
            "1/1 [==============================] - 0s 73ms/step\n",
            "1/1 [==============================] - 0s 77ms/step\n"
          ]
        }
      ]
    },
    {
      "cell_type": "code",
      "source": [
        "predictions"
      ],
      "metadata": {
        "colab": {
          "base_uri": "https://localhost:8080/"
        },
        "id": "d13Lo6bYh1LG",
        "outputId": "1ec4f813-c571-4181-c03e-9e99cbbd5dd9"
      },
      "execution_count": 48,
      "outputs": [
        {
          "output_type": "execute_result",
          "data": {
            "text/plain": [
              "[['spiral-1_wpriv_1.png', 'Spiral'],\n",
              " ['spiral-1_wpriv_2.png', 'Spiral'],\n",
              " ['spiral-1_wpriv_5.png', 'Spiral'],\n",
              " ['spiral-1_wpriv_0_1.png', 'Spiral'],\n",
              " ['spiral-1_wpriv_3.png', 'Spiral'],\n",
              " ['spiral-1_wpriv_0_2.png', 'Spiral'],\n",
              " ['spiral-1_wpriv_0_5.png', 'Spiral'],\n",
              " ['spiral-1_wpriv_0_3.png', 'Spiral'],\n",
              " ['spiral-1_wopriv.png', 'Spiral'],\n",
              " ['spiral-1_wpriv_4.png', 'Spiral'],\n",
              " ['spiral-1_wpriv_0_4.png', 'Spiral']]"
            ]
          },
          "metadata": {},
          "execution_count": 48
        }
      ]
    },
    {
      "cell_type": "markdown",
      "source": [
        "# Inference of Health Attribute from hand drawing data.\n",
        "This is the attack model to infer if a user has parkinson."
      ],
      "metadata": {
        "id": "K01Td4QfI4Kt"
      }
    },
    {
      "cell_type": "code",
      "source": [
        "# Print the list of images and their paths\n",
        "predictions = []\n",
        "for img_path in images:\n",
        "    image = load_img(img_path, target_size=(256, 256))\n",
        "    image = img_to_array(image)\n",
        "    image = preprocess_input(image)\n",
        "    input_data = image.reshape((1,) + image.shape)\n",
        "\n",
        "    # Make predictions\n",
        "    pred = inference_model.predict(input_data)\n",
        "\n",
        "\n",
        "    if pred.item()<.5:\n",
        "        pred = \"Healthy\"\n",
        "    else:\n",
        "        pred = \"Parkinson\"\n",
        "\n",
        "\n",
        "    predictions.append([os.path.basename(img_path), pred])\n"
      ],
      "metadata": {
        "colab": {
          "base_uri": "https://localhost:8080/"
        },
        "id": "T47CHauFI4ek",
        "outputId": "c936a14d-c77f-48da-a13e-a26f387c3edc"
      },
      "execution_count": 49,
      "outputs": [
        {
          "output_type": "stream",
          "name": "stdout",
          "text": [
            "1/1 [==============================] - 0s 75ms/step\n",
            "1/1 [==============================] - 0s 71ms/step\n",
            "1/1 [==============================] - 0s 87ms/step\n",
            "1/1 [==============================] - 0s 75ms/step\n",
            "1/1 [==============================] - 0s 76ms/step\n",
            "1/1 [==============================] - 0s 71ms/step\n",
            "1/1 [==============================] - 0s 71ms/step\n",
            "1/1 [==============================] - 0s 67ms/step\n",
            "1/1 [==============================] - 0s 70ms/step\n",
            "1/1 [==============================] - 0s 64ms/step\n",
            "1/1 [==============================] - 0s 67ms/step\n"
          ]
        }
      ]
    },
    {
      "cell_type": "code",
      "source": [
        "predictions"
      ],
      "metadata": {
        "colab": {
          "base_uri": "https://localhost:8080/"
        },
        "id": "DQAfQuEMiBo1",
        "outputId": "4709603e-0808-4cec-9211-c0fdf5485646"
      },
      "execution_count": 50,
      "outputs": [
        {
          "output_type": "execute_result",
          "data": {
            "text/plain": [
              "[['spiral-1_wpriv_1.png', 'Healthy'],\n",
              " ['spiral-1_wpriv_2.png', 'Healthy'],\n",
              " ['spiral-1_wpriv_5.png', 'Healthy'],\n",
              " ['spiral-1_wpriv_0_1.png', 'Parkinson'],\n",
              " ['spiral-1_wpriv_3.png', 'Healthy'],\n",
              " ['spiral-1_wpriv_0_2.png', 'Parkinson'],\n",
              " ['spiral-1_wpriv_0_5.png', 'Parkinson'],\n",
              " ['spiral-1_wpriv_0_3.png', 'Parkinson'],\n",
              " ['spiral-1_wopriv.png', 'Healthy'],\n",
              " ['spiral-1_wpriv_4.png', 'Healthy'],\n",
              " ['spiral-1_wpriv_0_4.png', 'Parkinson']]"
            ]
          },
          "metadata": {},
          "execution_count": 50
        }
      ]
    }
  ]
}